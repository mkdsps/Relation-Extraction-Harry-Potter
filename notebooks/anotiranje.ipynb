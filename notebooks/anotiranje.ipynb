{
 "cells": [
  {
   "cell_type": "code",
   "execution_count": 1,
   "metadata": {},
   "outputs": [],
   "source": [
    "import pandas as pd\n",
    "from tqdm import trange\n",
    "\n",
    "import sys\n",
    "from pathlib import Path\n",
    "import os\n",
    "\n",
    "sys.path.append(str(Path.cwd().parent))\n",
    "sys.path.append(os.path.join(os.getcwd(),'../scripts'))\n",
    "\n",
    "from scripts.llm_anotation import anotate_paragraphs\n",
    "import json\n",
    "\n",
    "df = pd.read_csv('../data/final_paragraphs/sampled_paragraphs.csv')"
   ]
  },
  {
   "cell_type": "code",
   "execution_count": 2,
   "metadata": {},
   "outputs": [
    {
     "name": "stderr",
     "output_type": "stream",
     "text": [
      "/home/mkdsp/Desktop/HarryPotter/venv/lib/python3.12/site-packages/tqdm/auto.py:21: TqdmWarning: IProgress not found. Please update jupyter and ipywidgets. See https://ipywidgets.readthedocs.io/en/stable/user_install.html\n",
      "  from .autonotebook import tqdm as notebook_tqdm\n"
     ]
    }
   ],
   "source": [
    "from transformers import AutoTokenizer\n",
    "\n",
    "tokenizer = AutoTokenizer.from_pretrained('bert-base-cased')\n",
    "df['tokens'] = df['text'].apply(lambda x: [[i,x] for x,i in enumerate(tokenizer.tokenize(x))])"
   ]
  },
  {
   "cell_type": "code",
   "execution_count": 3,
   "metadata": {},
   "outputs": [],
   "source": [
    "def convert_to_list(df):\n",
    "    result = []\n",
    "    for _, row in df.iterrows():\n",
    "        result.append({\n",
    "            'id': row['index'],\n",
    "            'text': row['text'],\n",
    "            'tokens': row['tokens']\n",
    "        })\n",
    "    return result"
   ]
  },
  {
   "cell_type": "code",
   "execution_count": 4,
   "metadata": {},
   "outputs": [],
   "source": [
    "def tokens_checker(data_point: dict):\n",
    "    def clean_string(s):\n",
    "        return s.replace('#', '').replace(' ', '')\n",
    "\n",
    "    valid = True\n",
    "\n",
    "    tokens = data_point.get('tokens', [])\n",
    "\n",
    "    for entity in data_point.get('entities', []):\n",
    "        start = entity.get('token_start', -1)\n",
    "        end = entity.get('token_end', -1)\n",
    "\n",
    "        # Provera granica\n",
    "        if 0 <= start <= end < len(tokens):\n",
    "            entity_token_text = ''.join([x[0] for x in tokens[start : end + 1]])\n",
    "        else:\n",
    "            entity_token_text = ''\n",
    "        \n",
    "        entity_text = entity.get('text', '')\n",
    "        token_validity = clean_string(entity_text) == clean_string(entity_token_text)\n",
    "        entity['token_validity'] = token_validity\n",
    "        valid &= token_validity\n",
    "\n",
    "    data_point['token_validity'] = valid\n",
    "    return data_point"
   ]
  },
  {
   "cell_type": "code",
   "execution_count": 5,
   "metadata": {},
   "outputs": [],
   "source": [
    "# # OVO JE ZA TESTIRANJE\n",
    "# group = convert_to_list(df[df['index'].isin([14396, 17212, 4346])])\n",
    "# data = anotate_paragraphs(group)\n",
    "# step = 3\n",
    "\n",
    "# for j in range(len(data['data_points'])):\n",
    "#     row = df[df['index'] == data['data_points'][j]['id']].iloc[0]\n",
    "#     data['data_points'][j]['text'] = row['text']\n",
    "#     data['data_points'][j]['tokens'] = row['tokens']\n",
    "\n",
    "#     data['data_points'][j] = tokens_checker(data['data_points'][j])\n",
    "\n",
    "# with open('output_pokusaj2.json', 'w') as f:\n",
    "#     json.dump(data, f, indent=1)\n"
   ]
  },
  {
   "cell_type": "code",
   "execution_count": 6,
   "metadata": {},
   "outputs": [
    {
     "name": "stderr",
     "output_type": "stream",
     "text": [
      "100%|██████████| 1659/1659 [3:28:06<00:00,  7.53s/it]  \n"
     ]
    }
   ],
   "source": [
    "step = 3\n",
    "for i in trange(0, len(df), step):\n",
    "    group = df.iloc[i:i+step]\n",
    "\n",
    "    try:\n",
    "        data = anotate_paragraphs(convert_to_list(group))\n",
    "\n",
    "        for j in range(min(step, len(data['data_points']), len(group))):\n",
    "            data['data_points'][j]['text'] = group.iloc[j]['text']\n",
    "            data['data_points'][j]['tokens'] = group.iloc[j]['tokens']\n",
    "            data['data_points'][j] = tokens_checker(data['data_points'][j])\n",
    "        file = os.path.join(\"../anotations/json_files\", f'output{int(i/step)}.json')\n",
    "\n",
    "        with open(file, 'w') as f:\n",
    "            json.dump(data, f, indent=1)\n",
    "\n",
    "    \n",
    "    except Exception as e:\n",
    "        print(f\"Došlo je do greške pri obradi pasusa {i}-{i+step}: {e}\")\n",
    "        raise\n",
    "    \n",
    "    \n",
    "    "
   ]
  },
  {
   "cell_type": "code",
   "execution_count": null,
   "metadata": {},
   "outputs": [],
   "source": []
  }
 ],
 "metadata": {
  "kernelspec": {
   "display_name": "venv",
   "language": "python",
   "name": "python3"
  },
  "language_info": {
   "codemirror_mode": {
    "name": "ipython",
    "version": 3
   },
   "file_extension": ".py",
   "mimetype": "text/x-python",
   "name": "python",
   "nbconvert_exporter": "python",
   "pygments_lexer": "ipython3",
   "version": "3.12.3"
  }
 },
 "nbformat": 4,
 "nbformat_minor": 2
}
