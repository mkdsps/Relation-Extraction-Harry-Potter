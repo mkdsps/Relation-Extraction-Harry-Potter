{
 "cells": [
  {
   "cell_type": "code",
   "execution_count": 1,
   "metadata": {},
   "outputs": [],
   "source": [
    "# Proverava da li je moguce da postoji relacija izmedju dva entiteta...\n",
    "def validna_relacija(entity1, entity2) -> bool: \n",
    "    return entity1.get('type','') == 'CHARACTER' and entity2.get('type','') in ['CHARACTER','HOUSE','MAGIC_ITEM','SPELL','LOCATION']"
   ]
  },
  {
   "cell_type": "code",
   "execution_count": 2,
   "metadata": {},
   "outputs": [],
   "source": [
    "# Proverava da li je relacija koja postoji validna!\n",
    "def moguca_relacija(entity1, entity2, relation)->bool:\n",
    "    if not validna_relacija(entity1,entity2):\n",
    "        return False\n",
    "    \n",
    "    type1 = entity1.get('type')\n",
    "    type2 = entity2.get('type')\n",
    "\n",
    "    relacijeDict={\n",
    "        'CHARACTER' : ['friend-of', 'enemy-of', 'mentor-of', 'student-of', 'parent-of', 'sibling-of', 'rival-of', 'ally-of'],\n",
    "        'HOUSE' : ['member-of-house', 'founder-of-house'],\n",
    "        'MAGIC_ITEM' : ['uses', 'owns', 'acquires', 'gives', 'given_to'],\n",
    "        'SPELL' : ['casts', 'knows', 'teaches'],\n",
    "        'LOCATION' : ['located_in']\n",
    "    }\n",
    "\n",
    "    return relation in relacijeDict.get(type2, [])"
   ]
  },
  {
   "cell_type": "code",
   "execution_count": 3,
   "metadata": {},
   "outputs": [],
   "source": [
    "def vec_postoji_relacija(id1 : int , id2 : int, relations : list) -> bool:\n",
    "    for relation in relations:\n",
    "        if id1 == relation.get('head_id', -1) and id2 == relation.get('tail_id', -1):\n",
    "            return True\n",
    "    return False"
   ]
  },
  {
   "cell_type": "code",
   "execution_count": 4,
   "metadata": {},
   "outputs": [],
   "source": [
    "import random\n",
    "\n",
    "def pronadji(entities, i):\n",
    "    for entity in entities:\n",
    "        if entity.get('id', -1) == i:\n",
    "            return entity\n",
    "    return {}\n",
    "\n",
    "def prepravi_moguce_relacije(data_point : dict):\n",
    "    entities = data_point.get('entities',[])\n",
    "    relacije = data_point.get('relations',[])\n",
    "    broj_entiteta = len(entities)\n",
    "    \n",
    "    # pronalazimo nove moguce relacije\n",
    "\n",
    "    nove_relacije = []\n",
    "    for i in range(broj_entiteta-1):\n",
    "        for j in range(i+1, broj_entiteta):\n",
    "\n",
    "            entityI = pronadji(entities, i)\n",
    "            entityJ = pronadji(entities, j)\n",
    "\n",
    "            if validna_relacija(entityI,entityJ) and not vec_postoji_relacija(i,j, relacije):\n",
    "                nove_relacije += [{'head_id':i, 'tail_id':j, 'type':'no_relation'}]\n",
    "            \n",
    "            if validna_relacija(entityJ,entityI) and not vec_postoji_relacija(j,i, relacije):\n",
    "                nove_relacije += [{'head_id':j, 'tail_id':i, 'type':'no_relation'}]\n",
    "\n",
    "    # ovde je potrebno shufflovati nove_relacije i izbaciti 40%!!!\n",
    "\n",
    "    random.shuffle(nove_relacije)\n",
    "    broj_za_zadrzavanje = int(len(nove_relacije) * 0.25)\n",
    "    nove_relacije = nove_relacije[:broj_za_zadrzavanje]\n",
    "\n",
    "    # iz starih brisemo one koje nisu moguce (zalutale u anotaciji)\n",
    "    stare_prepravljene_relacje = []\n",
    "    for relacija in relacije:\n",
    "        ent1 = pronadji(entities, relacija['head_id'])\n",
    "        ent2 = pronadji(entities, relacija['tail_id'])\n",
    "\n",
    "        if moguca_relacija(ent1,ent2,relacija.get('type')):\n",
    "            stare_prepravljene_relacje +=[relacija]\n",
    "\n",
    "\n",
    "    data_point['relations'] = stare_prepravljene_relacje + nove_relacije\n",
    "    return data_point"
   ]
  },
  {
   "cell_type": "code",
   "execution_count": 5,
   "metadata": {},
   "outputs": [],
   "source": [
    "def generisi_recenice_za_datapoint(data_point):\n",
    "    \n",
    "    relations = data_point.get('relations', [])\n",
    "    entities = data_point.get('entities',[]) \n",
    "    tkns = [x[0] for x in data_point.get('tokens',[])]\n",
    "    \n",
    "    def umetni(token_start, token_end, typee, num):\n",
    "        tokens.insert(token_end+1, f'[/E{num}]')\n",
    "        tokens.insert(token_start, f'[E{num}:{typee}]')\n",
    "\n",
    "    recenice = []\n",
    "\n",
    "    for relation in relations:\n",
    "        tokens = tkns.copy()\n",
    "\n",
    "        ent1 = pronadji(entities, relation.get('head_id', []))\n",
    "        ent2 = pronadji(entities, relation.get('tail_id',[]))\n",
    "\n",
    "        token_start_ent1 = ent1.get('token_start', None)\n",
    "        token_end_ent1 = ent1.get('token_end', None)\n",
    "        type_ent1 = ent1.get('type', '')\n",
    "\n",
    "        token_start_ent2 = ent2.get('token_start', None)\n",
    "        token_end_ent2 = ent2.get('token_end', None)\n",
    "        type_ent2 = ent2.get('type', '')\n",
    "\n",
    "        if None in [token_start_ent1, token_end_ent1, token_start_ent2, token_end_ent2]:\n",
    "            continue\n",
    "\n",
    "\n",
    "        if token_end_ent2 > token_end_ent1:\n",
    "            umetni(token_start_ent2, token_end_ent2, type_ent2, 2)\n",
    "            umetni(token_start_ent1, token_end_ent1, type_ent1, 1)\n",
    "        else:\n",
    "            umetni(token_start_ent1, token_end_ent1, type_ent1, 1)\n",
    "            umetni(token_start_ent2, token_end_ent2, type_ent2, 2)\n",
    "\n",
    "        recenice += [{\"tokens\":tokens,\"relation\":relation.get('type')}]\n",
    "    return recenice\n"
   ]
  },
  {
   "cell_type": "code",
   "execution_count": 6,
   "metadata": {},
   "outputs": [],
   "source": [
    "def ucitaj_u_ReFormatu(folder_path, lista = False)->list:\n",
    "    import os\n",
    "    import json\n",
    "    from glob import glob\n",
    "\n",
    "    all_data = []\n",
    "    if not lista:\n",
    "        json_files = glob(os.path.join(folder_path, '*.json'))\n",
    "    else:\n",
    "        json_files = folder_path\n",
    "        \n",
    "    for file_path in json_files:\n",
    "        try:\n",
    "            with open(file_path, 'r', encoding='utf-8') as file:\n",
    "                json_data = json.load(file)\n",
    "            \n",
    "            for data_point in json_data:\n",
    "                entities = data_point.get('entities', [])\n",
    "                relations = data_point.get('relations',[])\n",
    "\n",
    "                row = {\n",
    "                    'id': data_point.get('id'),\n",
    "                    'text': data_point.get('text'),\n",
    "                    'entities': entities, \n",
    "                    'tokens': data_point.get('tokens'),\n",
    "                    'relations': relations\n",
    "                }\n",
    "\n",
    "                all_data += generisi_recenice_za_datapoint(prepravi_moguce_relacije(row))\n",
    "                \n",
    "        except Exception as e:\n",
    "            print(f\"Greška prilikom obrade fajla {file_path}: {e}\")\n",
    "    return all_data"
   ]
  },
  {
   "cell_type": "code",
   "execution_count": 7,
   "metadata": {},
   "outputs": [],
   "source": [
    "def sacuvaj_ReFormatu(data, putanja):\n",
    "    import json\n",
    "    with open(putanja, \"w\", encoding=\"utf-8\") as f:\n",
    "        json.dump(data, f, ensure_ascii=False)"
   ]
  },
  {
   "cell_type": "code",
   "execution_count": 8,
   "metadata": {},
   "outputs": [],
   "source": [
    "remaining_data = ucitaj_u_ReFormatu('../anotations/remaining_set')\n",
    "random.shuffle(remaining_data)\n",
    "sacuvaj_ReFormatu(remaining_data, '../anotations/re_data/train.json')"
   ]
  },
  {
   "cell_type": "code",
   "execution_count": 9,
   "metadata": {},
   "outputs": [],
   "source": [
    "golden_data = ucitaj_u_ReFormatu('../anotations/remaining_set')\n",
    "random.shuffle(golden_data)\n",
    "\n",
    "no_r = []\n",
    "yes_r = []\n",
    "\n",
    "for x in golden_data:\n",
    "    if x['relation'] == 'no_relation':\n",
    "        no_r += [x]\n",
    "    else:\n",
    "        yes_r += [x]"
   ]
  },
  {
   "cell_type": "code",
   "execution_count": 10,
   "metadata": {},
   "outputs": [],
   "source": [
    "val = yes_r[:len(yes_r)//2] + no_r[:len(no_r)//2]\n",
    "test = yes_r[len(yes_r)//2:] + no_r[len(no_r)//2:]"
   ]
  },
  {
   "cell_type": "code",
   "execution_count": 11,
   "metadata": {},
   "outputs": [],
   "source": [
    "folderi = ['../anotations/golden_set/golden_set_part_006.json', '../anotations/golden_set/golden_set_part_010.json', '../anotations/golden_set/golden_set_part_011.json']\n",
    "\n",
    "ner_data = ucitaj_u_ReFormatu(folderi,True)\n",
    "test += ner_data "
   ]
  },
  {
   "cell_type": "code",
   "execution_count": 12,
   "metadata": {},
   "outputs": [],
   "source": [
    "sacuvaj_ReFormatu(val, '../anotations/re_data/val.json')\n",
    "sacuvaj_ReFormatu(test, '../anotations/re_data/test.json')"
   ]
  }
 ],
 "metadata": {
  "kernelspec": {
   "display_name": "venv",
   "language": "python",
   "name": "python3"
  },
  "language_info": {
   "codemirror_mode": {
    "name": "ipython",
    "version": 3
   },
   "file_extension": ".py",
   "mimetype": "text/x-python",
   "name": "python",
   "nbconvert_exporter": "python",
   "pygments_lexer": "ipython3",
   "version": "3.12.3"
  }
 },
 "nbformat": 4,
 "nbformat_minor": 2
}
