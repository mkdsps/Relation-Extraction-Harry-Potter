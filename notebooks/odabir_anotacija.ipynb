{
 "cells": [
  {
   "cell_type": "code",
   "execution_count": 1,
   "metadata": {},
   "outputs": [],
   "source": [
    "folder_path = '../anotations/json_files'  # Promenite ovo na vašu stvarnu putanju"
   ]
  },
  {
   "cell_type": "code",
   "execution_count": 2,
   "metadata": {},
   "outputs": [
    {
     "name": "stdout",
     "output_type": "stream",
     "text": [
      "     id  num_entities  num_relations\n",
      "0  4259             1              0\n",
      "1  4815             0              0\n",
      "2  9829             2              0\n",
      "3  6453             7              0\n",
      "4  2732             1              0\n",
      "Ukupan broj redova: 4975\n",
      "Kolone: ['id', 'text', 'annotation_confidence', 'entities', 'relations', 'tokens', 'num_entities', 'num_relations', 'token_validity']\n",
      "Prosečan broj entiteta po podatku: 4.09\n",
      "Maksimalan broj entiteta: 22\n",
      "Prosečan broj relacija po podatku: 1.04\n",
      "Maksimalan broj relacija: 24\n"
     ]
    }
   ],
   "source": [
    "import os\n",
    "import json\n",
    "import pandas as pd\n",
    "from glob import glob\n",
    "\n",
    "all_data = []\n",
    "\n",
    "json_files = glob(os.path.join(folder_path, '*.json'))\n",
    "\n",
    "for file_path in json_files:\n",
    "    try:\n",
    "        # Učitavanje json fajla\n",
    "        with open(file_path, 'r', encoding='utf-8') as file:\n",
    "            json_data = json.load(file)\n",
    "        \n",
    "        # Prolazak kroz sve datapoints u json fajlu\n",
    "        for data_point in json_data.get('data_points', []):\n",
    "            # Izvlačenje entiteta i relacija\n",
    "            entities = data_point.get('entities', [])\n",
    "            relations = data_point.get('relations', [])\n",
    "            \n",
    "            # Kreiranje novog reda sa svim originalnim podacima\n",
    "            row = {\n",
    "                'id': data_point.get('id'),\n",
    "                'text': data_point.get('text'),\n",
    "                'annotation_confidence': data_point.get('annotation_confidence'),\n",
    "                'entities': entities,  # Čuvamo entitete u originalnom obliku\n",
    "                'relations': relations,  # Čuvamo relacije u originalnom obliku\n",
    "                'tokens': data_point.get('tokens'),  # Čuvamo i tokene ako su potrebni\n",
    "                'num_entities': len(entities),  # Dodajemo broj entiteta\n",
    "                'num_relations': len(relations),  # Dodajemo broj relacija\n",
    "                'token_validity': data_point.get('token_validity')\n",
    "            }\n",
    "            \n",
    "            # Dodajemo red u listu svih podataka\n",
    "            all_data.append(row)\n",
    "            \n",
    "    except Exception as e:\n",
    "        print(f\"Greška prilikom obrade fajla {file_path}: {e}\")\n",
    "\n",
    "# Kreiranje DataFrame-a od svih podataka\n",
    "df = pd.DataFrame(all_data)\n",
    "\n",
    "# Prikaz strukture DataFrame-a\n",
    "print(df[['id', 'num_entities', 'num_relations']].head())\n",
    "print(f\"Ukupan broj redova: {len(df)}\")\n",
    "print(f\"Kolone: {df.columns.tolist()}\")\n",
    "\n",
    "# Statistika o broju entiteta i relacija\n",
    "print(f\"Prosečan broj entiteta po podatku: {df['num_entities'].mean():.2f}\")\n",
    "print(f\"Maksimalan broj entiteta: {df['num_entities'].max()}\")\n",
    "print(f\"Prosečan broj relacija po podatku: {df['num_relations'].mean():.2f}\")\n",
    "print(f\"Maksimalan broj relacija: {df['num_relations'].max()}\")\n"
   ]
  },
  {
   "cell_type": "code",
   "execution_count": 3,
   "metadata": {},
   "outputs": [],
   "source": [
    "df = df[(df['num_entities'] > 0) | (df['num_relations'] > 0)]\n",
    "df = df[(df['num_entities'] > 1)]"
   ]
  },
  {
   "cell_type": "code",
   "execution_count": 4,
   "metadata": {},
   "outputs": [
    {
     "data": {
      "text/plain": [
       "0.8253502033438771"
      ]
     },
     "execution_count": 4,
     "metadata": {},
     "output_type": "execute_result"
    }
   ],
   "source": [
    "len(df[df['token_validity']==True])/len(df)"
   ]
  },
  {
   "cell_type": "code",
   "execution_count": 5,
   "metadata": {},
   "outputs": [
    {
     "data": {
      "text/plain": [
       "863"
      ]
     },
     "execution_count": 5,
     "metadata": {},
     "output_type": "execute_result"
    }
   ],
   "source": [
    "len(df[(df['num_entities'] >= 5) & (df['num_relations'] >= 1) & (df['token_validity']==True)])"
   ]
  },
  {
   "cell_type": "code",
   "execution_count": 6,
   "metadata": {},
   "outputs": [],
   "source": [
    "# Definisanje grupa bez preklapanja\n",
    "mask_A = (df['num_entities'] >= 5) & (df['num_relations'] >= 1) & (df['token_validity']==True)\n",
    "mask_B = (df['num_entities'] >= 3) & (df['num_relations'] == 0) & (df['token_validity']==True)\n",
    "mask_C = (df['num_entities'] >= 10) & (df['token_validity']==True) & (~mask_A) & (~mask_B)\n",
    "mask_D = (~mask_A) & (~mask_B) & (~mask_C)"
   ]
  },
  {
   "cell_type": "code",
   "execution_count": 7,
   "metadata": {},
   "outputs": [],
   "source": [
    "group_A = df[mask_A].sample(n=min(200, sum(mask_A)), random_state=42)\n",
    "group_B = df[mask_B].sample(n=min(50, sum(mask_B)), random_state=42)\n",
    "group_C = df[mask_C].sample(n=min(25, sum(mask_C)), random_state=42)\n",
    "group_D = df[mask_D].sample(n=min(25, sum(mask_D)), random_state=42)"
   ]
  },
  {
   "cell_type": "code",
   "execution_count": 8,
   "metadata": {},
   "outputs": [],
   "source": [
    "golden_set = pd.concat([group_A, group_B, group_C, group_D])\n",
    "golden_set = golden_set.sample(frac=1, random_state=42).reset_index(drop=True)\n",
    "remaining = df.loc[~df.index.isin(golden_set.index)]"
   ]
  },
  {
   "cell_type": "code",
   "execution_count": 9,
   "metadata": {},
   "outputs": [
    {
     "name": "stdout",
     "output_type": "stream",
     "text": [
      "Golden set size: 275\n",
      "Remaining data size: 4190\n",
      "Total size check: False\n"
     ]
    }
   ],
   "source": [
    "print(f\"Golden set size: {len(golden_set)}\")\n",
    "print(f\"Remaining data size: {len(remaining)}\")\n",
    "print(f\"Total size check: {len(golden_set) + len(remaining) == len(df)}\")"
   ]
  },
  {
   "cell_type": "code",
   "execution_count": 10,
   "metadata": {},
   "outputs": [
    {
     "name": "stdout",
     "output_type": "stream",
     "text": [
      "Sačuvan fajl ../anotations/golden_set/golden_set_part_001.json sa 25 datapoint-a.\n",
      "Sačuvan fajl ../anotations/golden_set/golden_set_part_002.json sa 25 datapoint-a.\n",
      "Sačuvan fajl ../anotations/golden_set/golden_set_part_003.json sa 25 datapoint-a.\n",
      "Sačuvan fajl ../anotations/golden_set/golden_set_part_004.json sa 25 datapoint-a.\n",
      "Sačuvan fajl ../anotations/golden_set/golden_set_part_005.json sa 25 datapoint-a.\n",
      "Sačuvan fajl ../anotations/golden_set/golden_set_part_006.json sa 25 datapoint-a.\n",
      "Sačuvan fajl ../anotations/golden_set/golden_set_part_007.json sa 25 datapoint-a.\n",
      "Sačuvan fajl ../anotations/golden_set/golden_set_part_008.json sa 25 datapoint-a.\n",
      "Sačuvan fajl ../anotations/golden_set/golden_set_part_009.json sa 25 datapoint-a.\n",
      "Sačuvan fajl ../anotations/golden_set/golden_set_part_010.json sa 25 datapoint-a.\n",
      "Sačuvan fajl ../anotations/golden_set/golden_set_part_011.json sa 25 datapoint-a.\n",
      "Ukupno sačuvano 11 JSON fajlova.\n"
     ]
    }
   ],
   "source": [
    "import json\n",
    "import os\n",
    "import math\n",
    "\n",
    "def save_to_json(output_data, output_file):\n",
    "    \n",
    "    with open(output_file, 'w', encoding='utf-8') as f:\n",
    "        json.dump(output_data, f, ensure_ascii=False, indent=2)\n",
    "\n",
    "golden_data = golden_set.to_dict('records')\n",
    "\n",
    "num_files = math.ceil(len(golden_data) / 25)\n",
    "\n",
    "output_folder = '../anotations/golden_set'\n",
    "os.makedirs(output_folder, exist_ok=True)\n",
    "\n",
    "for i in range(num_files):\n",
    "    start_idx = i * 25\n",
    "    end_idx = min((i + 1) * 25, len(golden_data))\n",
    "    current_batch = golden_data[start_idx:end_idx]\n",
    "    \n",
    "    output_file = os.path.join(output_folder, f'golden_set_part_{i+1:03d}.json')\n",
    "\n",
    "    save_to_json(current_batch, output_file)\n",
    "    print(f\"Sačuvan fajl {output_file} sa {len(current_batch)} datapoint-a.\")\n",
    "\n",
    "print(f\"Ukupno sačuvano {num_files} JSON fajlova.\")"
   ]
  },
  {
   "cell_type": "code",
   "execution_count": 18,
   "metadata": {},
   "outputs": [
    {
     "data": {
      "text/plain": [
       "732"
      ]
     },
     "execution_count": 18,
     "metadata": {},
     "output_type": "execute_result"
    }
   ],
   "source": [
    "ispravi = remaining[remaining['token_validity']==False]\n",
    "len(ispravi)"
   ]
  },
  {
   "cell_type": "code",
   "execution_count": 20,
   "metadata": {},
   "outputs": [
    {
     "data": {
      "text/plain": [
       "3458"
      ]
     },
     "execution_count": 20,
     "metadata": {},
     "output_type": "execute_result"
    }
   ],
   "source": [
    "remaining = remaining[remaining['token_validity']==True]\n",
    "len(remaining)"
   ]
  },
  {
   "cell_type": "code",
   "execution_count": 21,
   "metadata": {},
   "outputs": [
    {
     "name": "stdout",
     "output_type": "stream",
     "text": [
      "Sačuvan fajl ../anotations/remaining_set/remaining_set_part_001.json sa 25 datapoint-a.\n",
      "Sačuvan fajl ../anotations/remaining_set/remaining_set_part_002.json sa 25 datapoint-a.\n",
      "Sačuvan fajl ../anotations/remaining_set/remaining_set_part_003.json sa 25 datapoint-a.\n",
      "Sačuvan fajl ../anotations/remaining_set/remaining_set_part_004.json sa 25 datapoint-a.\n",
      "Sačuvan fajl ../anotations/remaining_set/remaining_set_part_005.json sa 25 datapoint-a.\n",
      "Sačuvan fajl ../anotations/remaining_set/remaining_set_part_006.json sa 25 datapoint-a.\n",
      "Sačuvan fajl ../anotations/remaining_set/remaining_set_part_007.json sa 25 datapoint-a.\n",
      "Sačuvan fajl ../anotations/remaining_set/remaining_set_part_008.json sa 25 datapoint-a.\n",
      "Sačuvan fajl ../anotations/remaining_set/remaining_set_part_009.json sa 25 datapoint-a.\n",
      "Sačuvan fajl ../anotations/remaining_set/remaining_set_part_010.json sa 25 datapoint-a.\n",
      "Sačuvan fajl ../anotations/remaining_set/remaining_set_part_011.json sa 25 datapoint-a.\n",
      "Sačuvan fajl ../anotations/remaining_set/remaining_set_part_012.json sa 25 datapoint-a.\n",
      "Sačuvan fajl ../anotations/remaining_set/remaining_set_part_013.json sa 25 datapoint-a.\n",
      "Sačuvan fajl ../anotations/remaining_set/remaining_set_part_014.json sa 25 datapoint-a.\n",
      "Sačuvan fajl ../anotations/remaining_set/remaining_set_part_015.json sa 25 datapoint-a.\n",
      "Sačuvan fajl ../anotations/remaining_set/remaining_set_part_016.json sa 25 datapoint-a.\n",
      "Sačuvan fajl ../anotations/remaining_set/remaining_set_part_017.json sa 25 datapoint-a.\n",
      "Sačuvan fajl ../anotations/remaining_set/remaining_set_part_018.json sa 25 datapoint-a.\n",
      "Sačuvan fajl ../anotations/remaining_set/remaining_set_part_019.json sa 25 datapoint-a.\n",
      "Sačuvan fajl ../anotations/remaining_set/remaining_set_part_020.json sa 25 datapoint-a.\n",
      "Sačuvan fajl ../anotations/remaining_set/remaining_set_part_021.json sa 25 datapoint-a.\n",
      "Sačuvan fajl ../anotations/remaining_set/remaining_set_part_022.json sa 25 datapoint-a.\n",
      "Sačuvan fajl ../anotations/remaining_set/remaining_set_part_023.json sa 25 datapoint-a.\n",
      "Sačuvan fajl ../anotations/remaining_set/remaining_set_part_024.json sa 25 datapoint-a.\n",
      "Sačuvan fajl ../anotations/remaining_set/remaining_set_part_025.json sa 25 datapoint-a.\n",
      "Sačuvan fajl ../anotations/remaining_set/remaining_set_part_026.json sa 25 datapoint-a.\n",
      "Sačuvan fajl ../anotations/remaining_set/remaining_set_part_027.json sa 25 datapoint-a.\n",
      "Sačuvan fajl ../anotations/remaining_set/remaining_set_part_028.json sa 25 datapoint-a.\n",
      "Sačuvan fajl ../anotations/remaining_set/remaining_set_part_029.json sa 25 datapoint-a.\n",
      "Sačuvan fajl ../anotations/remaining_set/remaining_set_part_030.json sa 25 datapoint-a.\n",
      "Sačuvan fajl ../anotations/remaining_set/remaining_set_part_031.json sa 25 datapoint-a.\n",
      "Sačuvan fajl ../anotations/remaining_set/remaining_set_part_032.json sa 25 datapoint-a.\n",
      "Sačuvan fajl ../anotations/remaining_set/remaining_set_part_033.json sa 25 datapoint-a.\n",
      "Sačuvan fajl ../anotations/remaining_set/remaining_set_part_034.json sa 25 datapoint-a.\n",
      "Sačuvan fajl ../anotations/remaining_set/remaining_set_part_035.json sa 25 datapoint-a.\n",
      "Sačuvan fajl ../anotations/remaining_set/remaining_set_part_036.json sa 25 datapoint-a.\n",
      "Sačuvan fajl ../anotations/remaining_set/remaining_set_part_037.json sa 25 datapoint-a.\n",
      "Sačuvan fajl ../anotations/remaining_set/remaining_set_part_038.json sa 25 datapoint-a.\n",
      "Sačuvan fajl ../anotations/remaining_set/remaining_set_part_039.json sa 25 datapoint-a.\n",
      "Sačuvan fajl ../anotations/remaining_set/remaining_set_part_040.json sa 25 datapoint-a.\n",
      "Sačuvan fajl ../anotations/remaining_set/remaining_set_part_041.json sa 25 datapoint-a.\n",
      "Sačuvan fajl ../anotations/remaining_set/remaining_set_part_042.json sa 25 datapoint-a.\n",
      "Sačuvan fajl ../anotations/remaining_set/remaining_set_part_043.json sa 25 datapoint-a.\n",
      "Sačuvan fajl ../anotations/remaining_set/remaining_set_part_044.json sa 25 datapoint-a.\n",
      "Sačuvan fajl ../anotations/remaining_set/remaining_set_part_045.json sa 25 datapoint-a.\n",
      "Sačuvan fajl ../anotations/remaining_set/remaining_set_part_046.json sa 25 datapoint-a.\n",
      "Sačuvan fajl ../anotations/remaining_set/remaining_set_part_047.json sa 25 datapoint-a.\n",
      "Sačuvan fajl ../anotations/remaining_set/remaining_set_part_048.json sa 25 datapoint-a.\n",
      "Sačuvan fajl ../anotations/remaining_set/remaining_set_part_049.json sa 25 datapoint-a.\n",
      "Sačuvan fajl ../anotations/remaining_set/remaining_set_part_050.json sa 25 datapoint-a.\n",
      "Sačuvan fajl ../anotations/remaining_set/remaining_set_part_051.json sa 25 datapoint-a.\n",
      "Sačuvan fajl ../anotations/remaining_set/remaining_set_part_052.json sa 25 datapoint-a.\n",
      "Sačuvan fajl ../anotations/remaining_set/remaining_set_part_053.json sa 25 datapoint-a.\n",
      "Sačuvan fajl ../anotations/remaining_set/remaining_set_part_054.json sa 25 datapoint-a.\n",
      "Sačuvan fajl ../anotations/remaining_set/remaining_set_part_055.json sa 25 datapoint-a.\n",
      "Sačuvan fajl ../anotations/remaining_set/remaining_set_part_056.json sa 25 datapoint-a.\n",
      "Sačuvan fajl ../anotations/remaining_set/remaining_set_part_057.json sa 25 datapoint-a.\n",
      "Sačuvan fajl ../anotations/remaining_set/remaining_set_part_058.json sa 25 datapoint-a.\n",
      "Sačuvan fajl ../anotations/remaining_set/remaining_set_part_059.json sa 25 datapoint-a.\n",
      "Sačuvan fajl ../anotations/remaining_set/remaining_set_part_060.json sa 25 datapoint-a.\n",
      "Sačuvan fajl ../anotations/remaining_set/remaining_set_part_061.json sa 25 datapoint-a.\n",
      "Sačuvan fajl ../anotations/remaining_set/remaining_set_part_062.json sa 25 datapoint-a.\n",
      "Sačuvan fajl ../anotations/remaining_set/remaining_set_part_063.json sa 25 datapoint-a.\n",
      "Sačuvan fajl ../anotations/remaining_set/remaining_set_part_064.json sa 25 datapoint-a.\n",
      "Sačuvan fajl ../anotations/remaining_set/remaining_set_part_065.json sa 25 datapoint-a.\n",
      "Sačuvan fajl ../anotations/remaining_set/remaining_set_part_066.json sa 25 datapoint-a.\n",
      "Sačuvan fajl ../anotations/remaining_set/remaining_set_part_067.json sa 25 datapoint-a.\n",
      "Sačuvan fajl ../anotations/remaining_set/remaining_set_part_068.json sa 25 datapoint-a.\n",
      "Sačuvan fajl ../anotations/remaining_set/remaining_set_part_069.json sa 25 datapoint-a.\n",
      "Sačuvan fajl ../anotations/remaining_set/remaining_set_part_070.json sa 25 datapoint-a.\n",
      "Sačuvan fajl ../anotations/remaining_set/remaining_set_part_071.json sa 25 datapoint-a.\n",
      "Sačuvan fajl ../anotations/remaining_set/remaining_set_part_072.json sa 25 datapoint-a.\n",
      "Sačuvan fajl ../anotations/remaining_set/remaining_set_part_073.json sa 25 datapoint-a.\n",
      "Sačuvan fajl ../anotations/remaining_set/remaining_set_part_074.json sa 25 datapoint-a.\n",
      "Sačuvan fajl ../anotations/remaining_set/remaining_set_part_075.json sa 25 datapoint-a.\n",
      "Sačuvan fajl ../anotations/remaining_set/remaining_set_part_076.json sa 25 datapoint-a.\n",
      "Sačuvan fajl ../anotations/remaining_set/remaining_set_part_077.json sa 25 datapoint-a.\n",
      "Sačuvan fajl ../anotations/remaining_set/remaining_set_part_078.json sa 25 datapoint-a.\n",
      "Sačuvan fajl ../anotations/remaining_set/remaining_set_part_079.json sa 25 datapoint-a.\n",
      "Sačuvan fajl ../anotations/remaining_set/remaining_set_part_080.json sa 25 datapoint-a.\n",
      "Sačuvan fajl ../anotations/remaining_set/remaining_set_part_081.json sa 25 datapoint-a.\n",
      "Sačuvan fajl ../anotations/remaining_set/remaining_set_part_082.json sa 25 datapoint-a.\n",
      "Sačuvan fajl ../anotations/remaining_set/remaining_set_part_083.json sa 25 datapoint-a.\n",
      "Sačuvan fajl ../anotations/remaining_set/remaining_set_part_084.json sa 25 datapoint-a.\n",
      "Sačuvan fajl ../anotations/remaining_set/remaining_set_part_085.json sa 25 datapoint-a.\n",
      "Sačuvan fajl ../anotations/remaining_set/remaining_set_part_086.json sa 25 datapoint-a.\n",
      "Sačuvan fajl ../anotations/remaining_set/remaining_set_part_087.json sa 25 datapoint-a.\n",
      "Sačuvan fajl ../anotations/remaining_set/remaining_set_part_088.json sa 25 datapoint-a.\n",
      "Sačuvan fajl ../anotations/remaining_set/remaining_set_part_089.json sa 25 datapoint-a.\n",
      "Sačuvan fajl ../anotations/remaining_set/remaining_set_part_090.json sa 25 datapoint-a.\n",
      "Sačuvan fajl ../anotations/remaining_set/remaining_set_part_091.json sa 25 datapoint-a.\n",
      "Sačuvan fajl ../anotations/remaining_set/remaining_set_part_092.json sa 25 datapoint-a.\n",
      "Sačuvan fajl ../anotations/remaining_set/remaining_set_part_093.json sa 25 datapoint-a.\n",
      "Sačuvan fajl ../anotations/remaining_set/remaining_set_part_094.json sa 25 datapoint-a.\n",
      "Sačuvan fajl ../anotations/remaining_set/remaining_set_part_095.json sa 25 datapoint-a.\n",
      "Sačuvan fajl ../anotations/remaining_set/remaining_set_part_096.json sa 25 datapoint-a.\n",
      "Sačuvan fajl ../anotations/remaining_set/remaining_set_part_097.json sa 25 datapoint-a.\n",
      "Sačuvan fajl ../anotations/remaining_set/remaining_set_part_098.json sa 25 datapoint-a.\n",
      "Sačuvan fajl ../anotations/remaining_set/remaining_set_part_099.json sa 25 datapoint-a.\n",
      "Sačuvan fajl ../anotations/remaining_set/remaining_set_part_100.json sa 25 datapoint-a.\n",
      "Sačuvan fajl ../anotations/remaining_set/remaining_set_part_101.json sa 25 datapoint-a.\n",
      "Sačuvan fajl ../anotations/remaining_set/remaining_set_part_102.json sa 25 datapoint-a.\n",
      "Sačuvan fajl ../anotations/remaining_set/remaining_set_part_103.json sa 25 datapoint-a.\n",
      "Sačuvan fajl ../anotations/remaining_set/remaining_set_part_104.json sa 25 datapoint-a.\n",
      "Sačuvan fajl ../anotations/remaining_set/remaining_set_part_105.json sa 25 datapoint-a.\n",
      "Sačuvan fajl ../anotations/remaining_set/remaining_set_part_106.json sa 25 datapoint-a.\n",
      "Sačuvan fajl ../anotations/remaining_set/remaining_set_part_107.json sa 25 datapoint-a.\n",
      "Sačuvan fajl ../anotations/remaining_set/remaining_set_part_108.json sa 25 datapoint-a.\n",
      "Sačuvan fajl ../anotations/remaining_set/remaining_set_part_109.json sa 25 datapoint-a.\n",
      "Sačuvan fajl ../anotations/remaining_set/remaining_set_part_110.json sa 25 datapoint-a.\n",
      "Sačuvan fajl ../anotations/remaining_set/remaining_set_part_111.json sa 25 datapoint-a.\n",
      "Sačuvan fajl ../anotations/remaining_set/remaining_set_part_112.json sa 25 datapoint-a.\n",
      "Sačuvan fajl ../anotations/remaining_set/remaining_set_part_113.json sa 25 datapoint-a.\n",
      "Sačuvan fajl ../anotations/remaining_set/remaining_set_part_114.json sa 25 datapoint-a.\n",
      "Sačuvan fajl ../anotations/remaining_set/remaining_set_part_115.json sa 25 datapoint-a.\n",
      "Sačuvan fajl ../anotations/remaining_set/remaining_set_part_116.json sa 25 datapoint-a.\n",
      "Sačuvan fajl ../anotations/remaining_set/remaining_set_part_117.json sa 25 datapoint-a.\n",
      "Sačuvan fajl ../anotations/remaining_set/remaining_set_part_118.json sa 25 datapoint-a.\n",
      "Sačuvan fajl ../anotations/remaining_set/remaining_set_part_119.json sa 25 datapoint-a.\n",
      "Sačuvan fajl ../anotations/remaining_set/remaining_set_part_120.json sa 25 datapoint-a.\n",
      "Sačuvan fajl ../anotations/remaining_set/remaining_set_part_121.json sa 25 datapoint-a.\n",
      "Sačuvan fajl ../anotations/remaining_set/remaining_set_part_122.json sa 25 datapoint-a.\n",
      "Sačuvan fajl ../anotations/remaining_set/remaining_set_part_123.json sa 25 datapoint-a.\n",
      "Sačuvan fajl ../anotations/remaining_set/remaining_set_part_124.json sa 25 datapoint-a.\n",
      "Sačuvan fajl ../anotations/remaining_set/remaining_set_part_125.json sa 25 datapoint-a.\n",
      "Sačuvan fajl ../anotations/remaining_set/remaining_set_part_126.json sa 25 datapoint-a.\n",
      "Sačuvan fajl ../anotations/remaining_set/remaining_set_part_127.json sa 25 datapoint-a.\n",
      "Sačuvan fajl ../anotations/remaining_set/remaining_set_part_128.json sa 25 datapoint-a.\n",
      "Sačuvan fajl ../anotations/remaining_set/remaining_set_part_129.json sa 25 datapoint-a.\n",
      "Sačuvan fajl ../anotations/remaining_set/remaining_set_part_130.json sa 25 datapoint-a.\n",
      "Sačuvan fajl ../anotations/remaining_set/remaining_set_part_131.json sa 25 datapoint-a.\n",
      "Sačuvan fajl ../anotations/remaining_set/remaining_set_part_132.json sa 25 datapoint-a.\n",
      "Sačuvan fajl ../anotations/remaining_set/remaining_set_part_133.json sa 25 datapoint-a.\n",
      "Sačuvan fajl ../anotations/remaining_set/remaining_set_part_134.json sa 25 datapoint-a.\n",
      "Sačuvan fajl ../anotations/remaining_set/remaining_set_part_135.json sa 25 datapoint-a.\n",
      "Sačuvan fajl ../anotations/remaining_set/remaining_set_part_136.json sa 25 datapoint-a.\n",
      "Sačuvan fajl ../anotations/remaining_set/remaining_set_part_137.json sa 25 datapoint-a.\n",
      "Sačuvan fajl ../anotations/remaining_set/remaining_set_part_138.json sa 25 datapoint-a.\n",
      "Sačuvan fajl ../anotations/remaining_set/remaining_set_part_139.json sa 8 datapoint-a.\n",
      "Ukupno sačuvano 139 JSON fajlova.\n"
     ]
    }
   ],
   "source": [
    "# Assuming 'remaining_set' is your DataFrame\n",
    "remaining_data = remaining.to_dict('records')\n",
    "\n",
    "num_files_remaining = math.ceil(len(remaining_data) / 25)\n",
    "\n",
    "output_folder_remaining = '../anotations/remaining_set'\n",
    "os.makedirs(output_folder_remaining, exist_ok=True)\n",
    "\n",
    "for i in range(num_files_remaining):\n",
    "    start_idx = i * 25\n",
    "    end_idx = min((i + 1) * 25, len(remaining_data))\n",
    "    current_batch_remaining = remaining_data[start_idx:end_idx]\n",
    "    \n",
    "    output_file_remaining = os.path.join(output_folder_remaining, f'remaining_set_part_{i+1:03d}.json')\n",
    "\n",
    "    save_to_json(current_batch_remaining, output_file_remaining)\n",
    "    print(f\"Sačuvan fajl {output_file_remaining} sa {len(current_batch_remaining)} datapoint-a.\")\n",
    "\n",
    "print(f\"Ukupno sačuvano {num_files_remaining} JSON fajlova.\")"
   ]
  },
  {
   "cell_type": "code",
   "execution_count": 22,
   "metadata": {},
   "outputs": [
    {
     "name": "stdout",
     "output_type": "stream",
     "text": [
      "Sačuvan fajl ../anotations/ispravi/ispravi001.json sa 25 datapoint-a.\n",
      "Sačuvan fajl ../anotations/ispravi/ispravi002.json sa 25 datapoint-a.\n",
      "Sačuvan fajl ../anotations/ispravi/ispravi003.json sa 25 datapoint-a.\n",
      "Sačuvan fajl ../anotations/ispravi/ispravi004.json sa 25 datapoint-a.\n",
      "Sačuvan fajl ../anotations/ispravi/ispravi005.json sa 25 datapoint-a.\n",
      "Sačuvan fajl ../anotations/ispravi/ispravi006.json sa 25 datapoint-a.\n",
      "Sačuvan fajl ../anotations/ispravi/ispravi007.json sa 25 datapoint-a.\n",
      "Sačuvan fajl ../anotations/ispravi/ispravi008.json sa 25 datapoint-a.\n",
      "Sačuvan fajl ../anotations/ispravi/ispravi009.json sa 25 datapoint-a.\n",
      "Sačuvan fajl ../anotations/ispravi/ispravi010.json sa 25 datapoint-a.\n",
      "Sačuvan fajl ../anotations/ispravi/ispravi011.json sa 25 datapoint-a.\n",
      "Sačuvan fajl ../anotations/ispravi/ispravi012.json sa 25 datapoint-a.\n",
      "Sačuvan fajl ../anotations/ispravi/ispravi013.json sa 25 datapoint-a.\n",
      "Sačuvan fajl ../anotations/ispravi/ispravi014.json sa 25 datapoint-a.\n",
      "Sačuvan fajl ../anotations/ispravi/ispravi015.json sa 25 datapoint-a.\n",
      "Sačuvan fajl ../anotations/ispravi/ispravi016.json sa 25 datapoint-a.\n",
      "Sačuvan fajl ../anotations/ispravi/ispravi017.json sa 25 datapoint-a.\n",
      "Sačuvan fajl ../anotations/ispravi/ispravi018.json sa 25 datapoint-a.\n",
      "Sačuvan fajl ../anotations/ispravi/ispravi019.json sa 25 datapoint-a.\n",
      "Sačuvan fajl ../anotations/ispravi/ispravi020.json sa 25 datapoint-a.\n",
      "Sačuvan fajl ../anotations/ispravi/ispravi021.json sa 25 datapoint-a.\n",
      "Sačuvan fajl ../anotations/ispravi/ispravi022.json sa 25 datapoint-a.\n",
      "Sačuvan fajl ../anotations/ispravi/ispravi023.json sa 25 datapoint-a.\n",
      "Sačuvan fajl ../anotations/ispravi/ispravi024.json sa 25 datapoint-a.\n",
      "Sačuvan fajl ../anotations/ispravi/ispravi025.json sa 25 datapoint-a.\n",
      "Sačuvan fajl ../anotations/ispravi/ispravi026.json sa 25 datapoint-a.\n",
      "Sačuvan fajl ../anotations/ispravi/ispravi027.json sa 25 datapoint-a.\n",
      "Sačuvan fajl ../anotations/ispravi/ispravi028.json sa 25 datapoint-a.\n",
      "Sačuvan fajl ../anotations/ispravi/ispravi029.json sa 25 datapoint-a.\n",
      "Sačuvan fajl ../anotations/ispravi/ispravi030.json sa 7 datapoint-a.\n",
      "Ukupno sačuvano 30 JSON fajlova.\n"
     ]
    }
   ],
   "source": [
    "# Assuming 'remaining_set' is your DataFrame\n",
    "remaining_data = ispravi.to_dict('records')\n",
    "\n",
    "num_files_remaining = math.ceil(len(remaining_data) / 25)\n",
    "\n",
    "output_folder_remaining = '../anotations/ispravi'\n",
    "os.makedirs(output_folder_remaining, exist_ok=True)\n",
    "\n",
    "for i in range(num_files_remaining):\n",
    "    start_idx = i * 25\n",
    "    end_idx = min((i + 1) * 25, len(remaining_data))\n",
    "    current_batch_remaining = remaining_data[start_idx:end_idx]\n",
    "    \n",
    "    output_file_remaining = os.path.join(output_folder_remaining, f'ispravi{i+1:03d}.json')\n",
    "\n",
    "    save_to_json(current_batch_remaining, output_file_remaining)\n",
    "    print(f\"Sačuvan fajl {output_file_remaining} sa {len(current_batch_remaining)} datapoint-a.\")\n",
    "\n",
    "print(f\"Ukupno sačuvano {num_files_remaining} JSON fajlova.\")"
   ]
  },
  {
   "cell_type": "code",
   "execution_count": null,
   "metadata": {},
   "outputs": [],
   "source": []
  }
 ],
 "metadata": {
  "kernelspec": {
   "display_name": "venv",
   "language": "python",
   "name": "python3"
  },
  "language_info": {
   "codemirror_mode": {
    "name": "ipython",
    "version": 3
   },
   "file_extension": ".py",
   "mimetype": "text/x-python",
   "name": "python",
   "nbconvert_exporter": "python",
   "pygments_lexer": "ipython3",
   "version": "3.12.3"
  }
 },
 "nbformat": 4,
 "nbformat_minor": 2
}
