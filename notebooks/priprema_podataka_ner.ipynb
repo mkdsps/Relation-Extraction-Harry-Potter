{
 "cells": [
  {
   "cell_type": "code",
   "execution_count": 1,
   "metadata": {},
   "outputs": [],
   "source": [
    "import pandas as pd"
   ]
  },
  {
   "cell_type": "code",
   "execution_count": 2,
   "metadata": {},
   "outputs": [],
   "source": [
    "def prepravi_dp(data_point:dict) -> dict:\n",
    "    resenje = {}\n",
    "    resenje['tokens'] = [x[0] for x in data_point['tokens']]\n",
    "\n",
    "    broj_tokena = len(resenje['tokens'])\n",
    "    tags = ['O' for _ in range(broj_tokena)]\n",
    "\n",
    "    for entity in data_point.get('entities',[]):\n",
    "        start = entity.get('token_start', -1)\n",
    "        end = entity.get('token_end', -1)\n",
    "        tip = entity.get('type','O')\n",
    "        # Provera granica\n",
    "        if start < 0 or end < 0 or end >= broj_tokena:\n",
    "            continue\n",
    "\n",
    "        tags[start] = f'B-{tip}'\n",
    "        tags[start + 1:end + 1] = [f'I-{tip}'] * (end - start)\n",
    "\n",
    "    resenje['tags'] = tags\n",
    "    return resenje"
   ]
  },
  {
   "cell_type": "code",
   "execution_count": 3,
   "metadata": {},
   "outputs": [],
   "source": [
    "def ucitaj_u_nerFormatu(folder_path, lista = False)->list:\n",
    "    import os\n",
    "    import json\n",
    "    from glob import glob\n",
    "\n",
    "    all_data = []\n",
    "    if not lista:\n",
    "        json_files = glob(os.path.join(folder_path, '*.json'))\n",
    "    else:\n",
    "        json_files = folder_path\n",
    "        \n",
    "    for file_path in json_files:\n",
    "        try:\n",
    "            with open(file_path, 'r', encoding='utf-8') as file:\n",
    "                json_data = json.load(file)\n",
    "            \n",
    "            for data_point in json_data:\n",
    "                entities = data_point.get('entities', [])\n",
    "                \n",
    "                row = {\n",
    "                    'id': data_point.get('id'),\n",
    "                    'text': data_point.get('text'),\n",
    "                    'entities': entities, \n",
    "                    'tokens': data_point.get('tokens'),\n",
    "                    'token_validity': data_point.get('token_validity')\n",
    "                }\n",
    "                \n",
    "                # Dodajemo red u listu svih podataka\n",
    "                all_data.append(prepravi_dp(row))\n",
    "        except Exception as e:\n",
    "            print(f\"Greška prilikom obrade fajla {file_path}: {e}\")\n",
    "    return all_data\n",
    "# Kreiranje DataFrame-a od svih podataka\n"
   ]
  },
  {
   "cell_type": "code",
   "execution_count": 4,
   "metadata": {},
   "outputs": [],
   "source": [
    "def sacuvaj_nerFormat(data, putanja):\n",
    "    import json\n",
    "\n",
    "    with open(putanja, \"w\", encoding=\"utf-8\") as f:\n",
    "        json.dump(data, f, indent=1, ensure_ascii=False)"
   ]
  },
  {
   "cell_type": "code",
   "execution_count": 5,
   "metadata": {},
   "outputs": [
    {
     "data": {
      "text/plain": [
       "tokens    [“, You, can, go, first, ,, ”, Ron, snarled, ....\n",
       "tags      [O, O, O, O, O, O, O, B-CHARACTER, O, O, O, O,...\n",
       "Name: 0, dtype: object"
      ]
     },
     "execution_count": 5,
     "metadata": {},
     "output_type": "execute_result"
    }
   ],
   "source": [
    "folder_path = '../anotations/remaining_set'\n",
    "data = ucitaj_u_nerFormatu(folder_path)\n",
    "sacuvaj_nerFormat(data, '../anotations/ner_data/train.json')\n",
    "df = pd.DataFrame(data)\n",
    "df.iloc[0]"
   ]
  },
  {
   "cell_type": "code",
   "execution_count": 6,
   "metadata": {},
   "outputs": [
    {
     "data": {
      "text/html": [
       "<div>\n",
       "<style scoped>\n",
       "    .dataframe tbody tr th:only-of-type {\n",
       "        vertical-align: middle;\n",
       "    }\n",
       "\n",
       "    .dataframe tbody tr th {\n",
       "        vertical-align: top;\n",
       "    }\n",
       "\n",
       "    .dataframe thead th {\n",
       "        text-align: right;\n",
       "    }\n",
       "</style>\n",
       "<table border=\"1\" class=\"dataframe\">\n",
       "  <thead>\n",
       "    <tr style=\"text-align: right;\">\n",
       "      <th></th>\n",
       "      <th>tokens</th>\n",
       "      <th>tags</th>\n",
       "    </tr>\n",
       "  </thead>\n",
       "  <tbody>\n",
       "    <tr>\n",
       "      <th>0</th>\n",
       "      <td>[“, You, can, go, first, ,, ”, Ron, snarled, ....</td>\n",
       "      <td>[O, O, O, O, O, O, O, B-CHARACTER, O, O, O, O,...</td>\n",
       "    </tr>\n",
       "    <tr>\n",
       "      <th>1</th>\n",
       "      <td>[Harry, took, the, wa, ##nd, and, (, feeling, ...</td>\n",
       "      <td>[B-CHARACTER, O, O, B-MAGIC_ITEM, I-MAGIC_ITEM...</td>\n",
       "    </tr>\n",
       "    <tr>\n",
       "      <th>2</th>\n",
       "      <td>[', Oh, ,, they, only, know, flash, ##y, stuff...</td>\n",
       "      <td>[O, O, O, O, O, O, O, O, O, O, O, O, O, O, O, ...</td>\n",
       "    </tr>\n",
       "    <tr>\n",
       "      <th>3</th>\n",
       "      <td>[', You, know, that, was, a, flu, ##ke, ,, if,...</td>\n",
       "      <td>[O, O, O, O, O, O, O, O, O, O, O, B-MAGIC_ITEM...</td>\n",
       "    </tr>\n",
       "    <tr>\n",
       "      <th>4</th>\n",
       "      <td>[“, Yeah, ,, and, that, ', s, not, a, stupid, ...</td>\n",
       "      <td>[O, O, O, O, O, O, O, O, O, O, O, O, O, O, O, ...</td>\n",
       "    </tr>\n",
       "  </tbody>\n",
       "</table>\n",
       "</div>"
      ],
      "text/plain": [
       "                                              tokens  \\\n",
       "0  [“, You, can, go, first, ,, ”, Ron, snarled, ....   \n",
       "1  [Harry, took, the, wa, ##nd, and, (, feeling, ...   \n",
       "2  [', Oh, ,, they, only, know, flash, ##y, stuff...   \n",
       "3  [', You, know, that, was, a, flu, ##ke, ,, if,...   \n",
       "4  [“, Yeah, ,, and, that, ', s, not, a, stupid, ...   \n",
       "\n",
       "                                                tags  \n",
       "0  [O, O, O, O, O, O, O, B-CHARACTER, O, O, O, O,...  \n",
       "1  [B-CHARACTER, O, O, B-MAGIC_ITEM, I-MAGIC_ITEM...  \n",
       "2  [O, O, O, O, O, O, O, O, O, O, O, O, O, O, O, ...  \n",
       "3  [O, O, O, O, O, O, O, O, O, O, O, B-MAGIC_ITEM...  \n",
       "4  [O, O, O, O, O, O, O, O, O, O, O, O, O, O, O, ...  "
      ]
     },
     "execution_count": 6,
     "metadata": {},
     "output_type": "execute_result"
    }
   ],
   "source": [
    "df.head()"
   ]
  },
  {
   "cell_type": "code",
   "execution_count": 19,
   "metadata": {},
   "outputs": [],
   "source": [
    "# sada priprema val i test!\n",
    "folder_path = '../anotations/golden_set_checked'\n",
    "data = ucitaj_u_nerFormatu(folder_path)\n",
    "\n",
    "import random \n",
    "random.shuffle(data)\n",
    "\n",
    "test = data[:100]\n",
    "val = data[100:]\n"
   ]
  },
  {
   "cell_type": "code",
   "execution_count": null,
   "metadata": {},
   "outputs": [
    {
     "name": "stdout",
     "output_type": "stream",
     "text": [
      "175\n"
     ]
    }
   ],
   "source": [
    "folderi = ['../anotations/golden_set/golden_set_part_006.json', '../anotations/golden_set/golden_set_part_010.json', '../anotations/golden_set/golden_set_part_011.json']\n",
    "\n",
    "ner_data = ucitaj_u_nerFormatu(folderi,True)\n",
    "test+=ner_data "
   ]
  },
  {
   "cell_type": "code",
   "execution_count": 21,
   "metadata": {},
   "outputs": [],
   "source": [
    "sacuvaj_nerFormat(test, '../anotations/ner_data/test.json')\n",
    "sacuvaj_nerFormat(val, '../anotations/ner_data/val.json')"
   ]
  }
 ],
 "metadata": {
  "kernelspec": {
   "display_name": "venv",
   "language": "python",
   "name": "python3"
  },
  "language_info": {
   "codemirror_mode": {
    "name": "ipython",
    "version": 3
   },
   "file_extension": ".py",
   "mimetype": "text/x-python",
   "name": "python",
   "nbconvert_exporter": "python",
   "pygments_lexer": "ipython3",
   "version": "3.12.3"
  }
 },
 "nbformat": 4,
 "nbformat_minor": 2
}
